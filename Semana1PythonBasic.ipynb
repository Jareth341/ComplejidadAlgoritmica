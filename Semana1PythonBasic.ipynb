{
  "nbformat": 4,
  "nbformat_minor": 0,
  "metadata": {
    "colab": {
      "provenance": []
    },
    "kernelspec": {
      "name": "python3",
      "display_name": "Python 3"
    },
    "language_info": {
      "name": "python"
    }
  },
  "cells": [
    {
      "cell_type": "markdown",
      "source": [
        "DECLARAR VARIABLES:"
      ],
      "metadata": {
        "id": "9hGy6yZ8mQyH"
      }
    },
    {
      "cell_type": "code",
      "source": [
        "i = 10\n",
        "f = 3.7\n",
        "s = \"Ernesto\""
      ],
      "metadata": {
        "id": "-KFZfU19mUdn"
      },
      "execution_count": null,
      "outputs": []
    },
    {
      "cell_type": "code",
      "source": [
        "print(\"Integer = \",i)\n",
        "print(\"Flotante = \",f)\n",
        "print(\"String = \",s)"
      ],
      "metadata": {
        "colab": {
          "base_uri": "https://localhost:8080/"
        },
        "id": "TWJMe5MDn8eP",
        "outputId": "fd006cb0-aea3-4ede-f892-36aff9b7c4a8"
      },
      "execution_count": null,
      "outputs": [
        {
          "output_type": "stream",
          "name": "stdout",
          "text": [
            "Integer =  10\n",
            "Flotante =  3.7\n",
            "String =  Ernesto\n"
          ]
        }
      ]
    },
    {
      "cell_type": "markdown",
      "source": [
        "Ciclo Repetitivo"
      ],
      "metadata": {
        "id": "y-k9WS5hpLvf"
      }
    },
    {
      "cell_type": "code",
      "source": [
        "for i in range(1, 7):\n",
        "  print(\"Linea \", i)"
      ],
      "metadata": {
        "colab": {
          "base_uri": "https://localhost:8080/"
        },
        "id": "zdA50xlZpNkX",
        "outputId": "57f1dc55-6554-4ff5-9de5-611c00614adc"
      },
      "execution_count": null,
      "outputs": [
        {
          "output_type": "stream",
          "name": "stdout",
          "text": [
            "Linea  1\n",
            "Linea  2\n",
            "Linea  3\n",
            "Linea  4\n",
            "Linea  5\n",
            "Linea  6\n"
          ]
        }
      ]
    },
    {
      "cell_type": "markdown",
      "source": [
        "Lista"
      ],
      "metadata": {
        "id": "eH_VRDG-p5U_"
      }
    },
    {
      "cell_type": "code",
      "source": [
        "lista = []\n",
        "for i in range(10):\n",
        "  lista.append(i)\n",
        "print(lista)"
      ],
      "metadata": {
        "colab": {
          "base_uri": "https://localhost:8080/"
        },
        "id": "rN1kk8GJp6u3",
        "outputId": "4e7d0af4-46ab-4bd1-9c9b-e1021b638977"
      },
      "execution_count": null,
      "outputs": [
        {
          "output_type": "stream",
          "name": "stdout",
          "text": [
            "[0, 1, 2, 3, 4, 5, 6, 7, 8, 9]\n"
          ]
        }
      ]
    },
    {
      "cell_type": "markdown",
      "source": [
        "Funcion"
      ],
      "metadata": {
        "id": "UmGSk6psq8w_"
      }
    },
    {
      "cell_type": "code",
      "source": [
        "def function(n):\n",
        "  return 2*n\n",
        "\n",
        "print(\"Resultado de la funcion: \", function(7))"
      ],
      "metadata": {
        "colab": {
          "base_uri": "https://localhost:8080/"
        },
        "id": "vHuy2gtgq9__",
        "outputId": "0a56e376-5ba8-49f3-aeda-6df0c9e0923f"
      },
      "execution_count": null,
      "outputs": [
        {
          "output_type": "stream",
          "name": "stdout",
          "text": [
            "Resultado de la funcion:  14\n"
          ]
        }
      ]
    },
    {
      "cell_type": "code",
      "source": [
        "lineal\n",
        "lineal\n",
        "cuadratica"
      ],
      "metadata": {
        "id": "bTw42jxf4ueZ"
      },
      "execution_count": null,
      "outputs": []
    }
  ]
}