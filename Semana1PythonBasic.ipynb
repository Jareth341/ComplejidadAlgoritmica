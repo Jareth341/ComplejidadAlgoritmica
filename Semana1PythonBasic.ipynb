{
  "nbformat": 4,
  "nbformat_minor": 0,
  "metadata": {
    "colab": {
      "provenance": [],
      "authorship_tag": "ABX9TyPcLWHEc86tlBdi/+M1FsgL",
      "include_colab_link": true
    },
    "kernelspec": {
      "name": "python3",
      "display_name": "Python 3"
    },
    "language_info": {
      "name": "python"
    }
  },
  "cells": [
    {
      "cell_type": "markdown",
      "metadata": {
        "id": "view-in-github",
        "colab_type": "text"
      },
      "source": [
        "<a href=\"https://colab.research.google.com/github/Jareth341/ComplejidadAlgoritmica/blob/main/Semana1PythonBasic.ipynb\" target=\"_parent\"><img src=\"https://colab.research.google.com/assets/colab-badge.svg\" alt=\"Open In Colab\"/></a>"
      ]
    },
    {
      "cell_type": "markdown",
      "source": [
        "DECLARAR VARIABLES:"
      ],
      "metadata": {
        "id": "9hGy6yZ8mQyH"
      }
    },
    {
      "cell_type": "code",
      "source": [
        "i = 10\n",
        "f = 3.7\n",
        "s = \"Ernesto\""
      ],
      "metadata": {
        "id": "-KFZfU19mUdn"
      },
      "execution_count": null,
      "outputs": []
    },
    {
      "cell_type": "code",
      "source": [
        "print(\"Integer = \",i)\n",
        "print(\"Flotante = \",f)\n",
        "print(\"String = \",s)"
      ],
      "metadata": {
        "id": "TWJMe5MDn8eP"
      },
      "execution_count": null,
      "outputs": []
    },
    {
      "cell_type": "markdown",
      "source": [
        "Ciclo Repetitivo"
      ],
      "metadata": {
        "id": "y-k9WS5hpLvf"
      }
    },
    {
      "cell_type": "code",
      "source": [
        "for i in range(1, 7):\n",
        "  print(\"Linea \", i)"
      ],
      "metadata": {
        "id": "zdA50xlZpNkX",
        "collapsed": true
      },
      "execution_count": null,
      "outputs": []
    },
    {
      "cell_type": "markdown",
      "source": [
        "Lista"
      ],
      "metadata": {
        "id": "eH_VRDG-p5U_"
      }
    },
    {
      "cell_type": "code",
      "source": [
        "lista = []\n",
        "for i in range(10):\n",
        "  lista.append(i)\n",
        "print(lista)"
      ],
      "metadata": {
        "id": "rN1kk8GJp6u3",
        "collapsed": true
      },
      "execution_count": null,
      "outputs": []
    },
    {
      "cell_type": "markdown",
      "source": [
        "Funcion"
      ],
      "metadata": {
        "id": "UmGSk6psq8w_"
      }
    },
    {
      "cell_type": "code",
      "source": [
        "def function(n):\n",
        "  return 2*n\n",
        "\n",
        "print(\"Resultado de la funcion: \", function(7))"
      ],
      "metadata": {
        "id": "vHuy2gtgq9__",
        "collapsed": true
      },
      "execution_count": null,
      "outputs": []
    }
  ]
}