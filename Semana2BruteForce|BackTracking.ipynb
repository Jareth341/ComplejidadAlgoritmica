{
  "nbformat": 4,
  "nbformat_minor": 0,
  "metadata": {
    "colab": {
      "provenance": [],
      "authorship_tag": "ABX9TyObmgZdoCvmZci24fqXB8y2",
      "include_colab_link": true
    },
    "kernelspec": {
      "name": "python3",
      "display_name": "Python 3"
    },
    "language_info": {
      "name": "python"
    }
  },
  "cells": [
    {
      "cell_type": "markdown",
      "metadata": {
        "id": "view-in-github",
        "colab_type": "text"
      },
      "source": [
        "<a href=\"https://colab.research.google.com/github/Jareth341/ComplejidadAlgoritmica/blob/main/Semana2BruteForce%7CBackTracking.ipynb\" target=\"_parent\"><img src=\"https://colab.research.google.com/assets/colab-badge.svg\" alt=\"Open In Colab\"/></a>"
      ]
    },
    {
      "cell_type": "markdown",
      "source": [
        "Divisores de un numero BF"
      ],
      "metadata": {
        "id": "7o0Mn01hXsjI"
      }
    },
    {
      "cell_type": "code",
      "execution_count": null,
      "metadata": {
        "collapsed": true,
        "id": "vVRkaKb8XSf2"
      },
      "outputs": [],
      "source": [
        "n = int(input(\"Ingrese un Numero: \"))\n",
        "for i in range(1, n+1):\n",
        "    if n % i == 0:\n",
        "        print(i)"
      ]
    },
    {
      "cell_type": "markdown",
      "source": [
        "Comparacion de Cadenas BF"
      ],
      "metadata": {
        "id": "8kWGwq2naY2w"
      }
    },
    {
      "cell_type": "code",
      "source": [
        "def strmatch(cadena, subcad):\n",
        "  n = len(cadena)\n",
        "  m = len(subcad)\n",
        "  results = []\n",
        "  for i in range(n - m+1):\n",
        "    if (cadena[i:i+m] == subcad):\n",
        "      results.append(i)\n",
        "  return results\n",
        "print(strmatch(\"abracadabracalamazo\", \"rac\"))\n"
      ],
      "metadata": {
        "id": "pBCuLbExesaI"
      },
      "execution_count": null,
      "outputs": []
    },
    {
      "cell_type": "markdown",
      "source": [
        "Combinaciones de Sillas BF"
      ],
      "metadata": {
        "id": "Lq5OBaMdjATg"
      }
    },
    {
      "cell_type": "code",
      "source": [
        "import itertools\n",
        "\n",
        "def main():\n",
        "  lista = [\"a\", \"n\", \"r\"]\n",
        "  permutations = list(itertools.permutations(lista))\n",
        "  print(permutations)\n",
        "\n",
        "main()"
      ],
      "metadata": {
        "id": "ntT_2mlpjC7o"
      },
      "execution_count": null,
      "outputs": []
    },
    {
      "cell_type": "markdown",
      "source": [
        "Combinaciones de Sillas BT"
      ],
      "metadata": {
        "id": "iPw_DD0IoFLI"
      }
    },
    {
      "cell_type": "code",
      "source": [
        "def back(nivel, n, cola, pila):\n",
        "  if (nivel == n):\n",
        "    print(\"pila: \", pila)\n",
        "  else:\n",
        "    j = nivel\n",
        "    while (j < n):\n",
        "      #Restricciones\n",
        "      if (not((nivel == 1 and cola[0] == \"a\") or (nivel == 0 and cola[0] == \"r\"))):\n",
        "        pila.append(cola.pop(0))\n",
        "\n",
        "        back(nivel + 1, n, cola, pila)\n",
        "\n",
        "        cola.append(pila.pop())\n",
        "\n",
        "      else:\n",
        "        cola.append(cola[0])\n",
        "        cola.pop(0)\n",
        "\n",
        "      j += 1\n"
      ],
      "metadata": {
        "id": "gpvDPaa0oV3f"
      },
      "execution_count": null,
      "outputs": []
    },
    {
      "cell_type": "code",
      "source": [
        "def main():\n",
        "  cola = [\"a\", \"n\", \"r\"]\n",
        "  pila = []\n",
        "\n",
        "  nivel = 0\n",
        "  n = len(cola)\n",
        "\n",
        "  back(nivel, n, cola, pila)\n",
        "\n",
        "main()\n",
        "\n",
        "\n",
        "\n"
      ],
      "metadata": {
        "id": "RNAsyvucoMWf"
      },
      "execution_count": null,
      "outputs": []
    },
    {
      "cell_type": "markdown",
      "source": [
        "Reinas Ajedrez BT"
      ],
      "metadata": {
        "id": "I9ogREzNzElf"
      }
    },
    {
      "cell_type": "code",
      "source": [
        "def validar(reinas, N, nivel):\n",
        "  #print(\"En funcion validar \", \"reinas: \", reinas, \"N=\", N, \"nivel=\", nivel)\n",
        "  i = 0 #columna a recorrer\n",
        "  while (i < nivel):\n",
        "    # RESTRICCIONES\n",
        "    # Validamos que las reinas no esten en la misma fila o en la misma columna => (reinas[i] == reinas[nivel])\n",
        "    # Validamos que las reinas no esten en la misma diagonal => (abs(nivel - i) == abs(reinas[nivel] - reinas[i]))\n",
        "    if ((reinas[i] == reinas[nivel]) or (abs(nivel - i) == abs(reinas[nivel] - reinas[i]))):\n",
        "      return False\n",
        "    i = i + 1\n",
        "  return True\n",
        "\n",
        "contX = 0\n",
        "\n",
        "def nReinas(reinas, N, nivel, cont):\n",
        "  # Caso Base para la recursividad: Todas las reinas colocadas en el arreglo (tablero) y validadas\n",
        "  if (nivel == N): #Nivel del Arbol == Numero de Reinas\n",
        "    global contX\n",
        "    contX = contX + 1\n",
        "    print(\"Solucion \", contX, \" : \")\n",
        "    print(\"reinas[]: \", reinas)\n",
        "    print()\n",
        "\n",
        "  # Seguimos buscando las reinas por colocar =>\n",
        "\t# 1) Validamos las posiciones\n",
        "\t# 2) Ejecutamos nuevamente (incluye volver atrás en el nivel o columna)\n",
        "  else:\n",
        "    # Recorre el Nivel (o columna del Tablero), para validar que no se \"coman\" entre las reinas\n",
        "    #print (\"nivel = \", nivel, \", reinas[nivel] = \", reinas[nivel], \" N = \", N)\n",
        "    reinas[nivel] = 0 #Ubicamos a la Reina en la primera fila (0) de la columna \"nivel\"\n",
        "    while(reinas[nivel] < N): #Mientras no pasemos de la ultima fila, de la columna \"nivel\"\n",
        "      if (validar(reinas, N, nivel)): #Validamos que no se \"coman\" las reinas\n",
        "        nReinas(reinas, N, nivel + 1, cont) #Recursividad: Pasamos al siguiente nivel del arbol (siguiente columna del Tablero)\n",
        "      reinas[nivel] = reinas[nivel] + 1 #Pasamos a la siguiente fila\n",
        "\n",
        "###    main    ###\n",
        "\n",
        "def main():\n",
        "  nivel = 0 \t# Nivel en el Arbol (o columna en el Tablero)\n",
        "  N = 4\t      # Numero de Reinas por defecto\n",
        "  N = int(input(\"Ingresar la cantidad de reinas : \"))\n",
        "\n",
        "  reinas = []\n",
        "  for i in range(int(N)):\n",
        "      reinas.append(-1) #Incializamos el arreglo con -1, porque aun no hay reinas ubicadas\n",
        "\n",
        "  nReinas(reinas, N, nivel, 0)\n",
        "\n",
        "main()"
      ],
      "metadata": {
        "id": "S-RfPNrgzEI3"
      },
      "execution_count": null,
      "outputs": []
    }
  ]
}