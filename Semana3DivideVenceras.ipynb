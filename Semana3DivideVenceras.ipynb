{
  "nbformat": 4,
  "nbformat_minor": 0,
  "metadata": {
    "colab": {
      "provenance": []
    },
    "kernelspec": {
      "name": "python3",
      "display_name": "Python 3"
    },
    "language_info": {
      "name": "python"
    }
  },
  "cells": [
    {
      "cell_type": "markdown",
      "source": [
        "Solucion de Enfoque Clasico"
      ],
      "metadata": {
        "id": "CKh6P3TLf9HV"
      }
    },
    {
      "cell_type": "code",
      "execution_count": null,
      "metadata": {
        "id": "s7dCJvfsPRiH"
      },
      "outputs": [],
      "source": [
        "def max_arr(arr):\n",
        "  max = arr[0]\n",
        "  for i in range(1, len(arr)):\n",
        "    if arr[i] > max:\n",
        "      max = arr[i]\n",
        "  return max\n",
        "\n",
        "def min_arr(arr):\n",
        "  min = arr[0]\n",
        "  for i in range(1, len(arr)):\n",
        "    if arr[i] < min:\n",
        "      min = arr[i]\n",
        "  return min\n",
        "\n"
      ]
    },
    {
      "cell_type": "code",
      "source": [
        "import random\n",
        "#arr = [5, 20, 17, 8, 13, 50, 42]\n",
        "#max_arr(arr)\n",
        "#print(\"Maximo: \", max_arr(arr))\n",
        "\n",
        "def main():\n",
        "  arr = list (range(30))\n",
        "  random.shuffle(arr)\n",
        "\n",
        "  arr2 = [random.randint(1,200) for x in range(25)]\n",
        "\n",
        "  print(\"Arreglo: \", arr2)\n",
        "  print(\"Maximo: \", max_arr(arr2))\n",
        "  print(\"Minimo: \", min_arr(arr2))\n",
        "\n",
        "\n",
        "main()\n"
      ],
      "metadata": {
        "colab": {
          "base_uri": "https://localhost:8080/"
        },
        "id": "mH4M5Q4vissV",
        "outputId": "8543142c-e3be-45c4-df65-41808482b144",
        "collapsed": true
      },
      "execution_count": null,
      "outputs": [
        {
          "output_type": "stream",
          "name": "stdout",
          "text": [
            "Arreglo:  [190, 172, 64, 80, 176, 130, 173, 37, 59, 53, 152, 61, 50, 199, 44, 29, 87, 54, 35, 64, 59, 127, 176, 127, 35]\n",
            "Maximo:  199\n",
            "Minimo:  29\n"
          ]
        }
      ]
    },
    {
      "cell_type": "markdown",
      "source": [
        "Solucion con Divide y Venceras"
      ],
      "metadata": {
        "id": "O7P9XekMoiU1"
      }
    },
    {
      "cell_type": "code",
      "source": [
        "def obtenerMax(arr, i, j):\n",
        "  if i == j:\n",
        "    return arr[i]\n",
        "\n",
        "  med = (i + j) // 2\n",
        "  maxi = obtenerMax(arr, i, med)\n",
        "  maxd = obtenerMax(arr, med + 1, j)\n",
        "\n",
        "  return maxi if maxi > maxd else maxd\n",
        "\n",
        "def obtenerMin(arr, i, j):\n",
        "  if i == j:\n",
        "    return arr[i]\n",
        "\n",
        "  med = (i + j) // 2\n",
        "  mini = obtenerMin(arr, i, med)\n",
        "  mind = obtenerMin(arr, med + 1, j)\n",
        "\n",
        "  return mini if mini < mind else mind"
      ],
      "metadata": {
        "id": "tbTWsVDyolLl"
      },
      "execution_count": null,
      "outputs": []
    },
    {
      "cell_type": "code",
      "source": [
        "import random\n",
        "\n",
        "def main():\n",
        "  arr = list (range(30))\n",
        "  random.shuffle(arr)\n",
        "\n",
        "  arr2 = [random.randint(1,200) for x in range(25)]\n",
        "\n",
        "  print(\"Arreglo: \", arr2)\n",
        "  print(\"Maximo con D/V: \",obtenerMax(arr2, 0, len(arr2)-1) )\n",
        "  print(\"Minimo con D/V: \",obtenerMin(arr2, 0, len(arr2)-1) )\n",
        "\n",
        "main()"
      ],
      "metadata": {
        "colab": {
          "base_uri": "https://localhost:8080/"
        },
        "id": "hggLUOLDpxd1",
        "outputId": "d3f9b235-76b7-4999-f74f-881d89058f60",
        "collapsed": true
      },
      "execution_count": null,
      "outputs": [
        {
          "output_type": "stream",
          "name": "stdout",
          "text": [
            "Arreglo:  [117, 83, 165, 47, 9, 139, 95, 15, 182, 177, 53, 101, 61, 132, 39, 138, 118, 55, 108, 15, 137, 132, 182, 45, 97]\n",
            "Maximo con D/V:  182\n",
            "Minimo con D/V:  9\n"
          ]
        }
      ]
    },
    {
      "cell_type": "markdown",
      "source": [
        "Contador de Palabras (Enfoque Clasico)"
      ],
      "metadata": {
        "id": "SsS51thLyEwm"
      }
    },
    {
      "cell_type": "code",
      "source": [
        "texto = \"Bienvenidos alumnos al curso de Complejidad Algoritmica\"\n",
        "\n",
        "print(texto)\n",
        "palabras = texto.split()\n",
        "cont = 0\n",
        "while(cont < len(palabras)):\n",
        "  palabra = palabras[cont]\n",
        "  cont += 1\n",
        "  print(palabra)\n",
        "\n",
        "print(\"Numero de palabras: \", cont)"
      ],
      "metadata": {
        "colab": {
          "base_uri": "https://localhost:8080/"
        },
        "id": "--9VhnbJyOe-",
        "outputId": "b6474f8b-33ba-432e-8d52-3e26a10b5f37",
        "collapsed": true
      },
      "execution_count": null,
      "outputs": [
        {
          "output_type": "stream",
          "name": "stdout",
          "text": [
            "Bienvenidos alumnos al curso de Complejidad Algoritmica\n",
            "Bienvenidos\n",
            "alumnos\n",
            "al\n",
            "curso\n",
            "de\n",
            "Complejidad\n",
            "Algoritmica\n",
            "Numero de palabras:  7\n"
          ]
        }
      ]
    },
    {
      "cell_type": "markdown",
      "source": [
        "Contador de Palabras (Divide Y Venceras)"
      ],
      "metadata": {
        "id": "Nc9QJoJUzs-m"
      }
    },
    {
      "cell_type": "code",
      "source": [
        "def ContPalabrasDC(palabras):\n",
        "  if len(palabras) == 1:\n",
        "    return 1\n",
        "\n",
        "  cont = len(palabras)\n",
        "  return ContPalabrasDC(palabras[0:cont//2]) + ContPalabrasDC(palabras[cont//2:])\n"
      ],
      "metadata": {
        "id": "BnVRpgtfzwke"
      },
      "execution_count": null,
      "outputs": []
    },
    {
      "cell_type": "code",
      "source": [
        "\n",
        "texto =\"\"\"\n",
        "Es un lenguaje de programación de código abierto,\n",
        "orientado a objetos, muy simple y fácil de entender.\n",
        "Tiene una sintaxis sencilla que cuenta con una\n",
        "vasta biblioteca de herramientas, que hacen de\n",
        "Python un lenguaje de programación único\n",
        "\"\"\"\n",
        "\n",
        "print(texto)\n",
        "palabras = texto.split()\n",
        "cont = ContPalabrasDC(palabras)\n",
        "print(\"Numero de palabras: \", cont)"
      ],
      "metadata": {
        "colab": {
          "base_uri": "https://localhost:8080/"
        },
        "id": "z1QRMhix0312",
        "outputId": "19b591f3-8d30-415b-be73-cae8a55e96d0",
        "collapsed": true
      },
      "execution_count": null,
      "outputs": [
        {
          "output_type": "stream",
          "name": "stdout",
          "text": [
            "\n",
            "Es un lenguaje de programación de código abierto,\n",
            "orientado a objetos, muy simple y fácil de entender.\n",
            "Tiene una sintaxis sencilla que cuenta con una\n",
            "vasta biblioteca de herramientas, que hacen de\n",
            "Python un lenguaje de programación único\n",
            "\n",
            "Numero de palabras:  38\n"
          ]
        }
      ]
    }
  ]
}